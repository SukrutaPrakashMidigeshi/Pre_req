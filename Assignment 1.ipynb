{
 "cells": [
  {
   "cell_type": "markdown",
   "id": "834b17da",
   "metadata": {},
   "source": [
    "###### Question 1 - \n",
    "Each element of every row of table 1 has to be multiplied with each element of every column of table 2. Since there are k elements in each row of table1 and each column of table2, each of operations will have k multiplications and one addition of all the elements. This process will repeat for each of the m columns in table2 for every row in table1. Thus, there are going to be n×m×k multiplications anf n×m additions."
   ]
  },
  {
   "cell_type": "code",
   "execution_count": null,
   "id": "e1df913f",
   "metadata": {},
   "outputs": [],
   "source": [
    "# Question 2 - code\n",
    "import numpy as np\n",
    "import time \n",
    "\n",
    "n,k = map(int, input().split())\n",
    "c,m = map(int, input().split())\n",
    "if(k!=c):\n",
    "    print(\"INVALID INPUT\")\n",
    "list1 = [[5]*k]*n\n",
    "list2 = [[5]*m]*k\n",
    "\n",
    "print(\"Enter the first matrix\")\n",
    "for x in range(n):\n",
    "    list1[x] = list(map(int, input().split()))\n",
    "        \n",
    "print(\"Enter the second matrix\")\n",
    "for x in range(c):\n",
    "    list2[x] = list(map(int, input().split())) \n",
    "    \n",
    "list3 = [[5]*m]*n\n",
    "\n",
    "#Solved using lists of lists\n",
    "\n",
    "ti1 = time.time()\n",
    "for x in range(n):\n",
    "    li = [4]*m\n",
    "    for y in range(m):\n",
    "        sum  = 0\n",
    "        for j in range(k):\n",
    "            sum = sum + ( list1[x][j] * list2[j][y] )\n",
    "        li[y] = sum\n",
    "    list3[x] = li\n",
    "print(\"Time taken using list\", time.time()-ti1)\n",
    "\n",
    "print(list3)\n",
    "\n",
    "#Solved using numpy\n",
    "ti1 = time.time()\n",
    "list4 = np.array(list1) @ np.array(list2)\n",
    "print(\"Time taken using list\", time.time()-ti1)\n",
    "\n",
    "list4"
   ]
  },
  {
   "cell_type": "markdown",
   "id": "e0179a26",
   "metadata": {},
   "source": [
    "##### Question2 - Theory\n",
    "It can be observed that while for smaller values the time taken by both of the methods is small, for larger input sizes, the time taken by the numpy method is way lesser. This is because numpy uses the highly optimised BLAS method for matrix multiplication which is way more efficient than the normal implimentation. \n"
   ]
  },
  {
   "cell_type": "code",
   "execution_count": null,
   "id": "1287346a",
   "metadata": {},
   "outputs": [],
   "source": [
    "# Question 3 (normal method)\n",
    "import math \n",
    "arr = list(map(int,input().split()))\n",
    "n = len(arr)\n",
    "arr2 = []\n",
    "if(n%2 == 0):\n",
    "    a = int(n/2)\n",
    "    b = -math.inf\n",
    "    c = 0\n",
    "    d = 0\n",
    "    # need to find the n/2th and the (n/2+1)th highest element\n",
    "    for x in range(a+1):\n",
    "        d = b\n",
    "        b = -math.inf\n",
    "        for y in range(n):\n",
    "            if(arr[y]>b):\n",
    "                b = arr[y]\n",
    "                c = y\n",
    "        arr[c] = -math.inf \n",
    "    print((b+d)/2)\n",
    "else :\n",
    "    a = int((n+1)/2)\n",
    "    b = -math.inf\n",
    "    c = 0\n",
    "    # need to find the (n+1)/2th highest element\n",
    "    for x in range(a):\n",
    "        b = -math.inf\n",
    "        for y in range(n):\n",
    "            if(arr[y]>b):\n",
    "                b = arr[y]\n",
    "                c = y\n",
    "        arr[c] = -math.inf \n",
    "    print(b)   \n",
    "    "
   ]
  },
  {
   "cell_type": "code",
   "execution_count": null,
   "id": "73640433",
   "metadata": {},
   "outputs": [],
   "source": [
    "# Question 3(better method) - sort + index\n",
    "arr = list(map(int, input(\"Enter the array \").split()))\n",
    "arr.sort()\n",
    "n = len(arr)\n",
    "if(n%2 == 0):\n",
    "    a = int(n/2)\n",
    "    print((arr[a] + arr[a-1])/2)\n",
    "else:\n",
    "    a = int((n-1)/2)\n",
    "    print(arr[a])"
   ]
  },
  {
   "cell_type": "code",
   "execution_count": null,
   "id": "bde48768",
   "metadata": {},
   "outputs": [],
   "source": [
    "# Question 3 - using numpy\n",
    "import numpy as np\n",
    "arr = list(map(int,input(\"Enter the array \").split()))  \n",
    "print(\"median = \", np.median(arr))"
   ]
  },
  {
   "cell_type": "markdown",
   "id": "daae30fc",
   "metadata": {},
   "source": [
    "###### Question 3\n",
    "\n",
    "Using the method1 mentioned in the question, the time complexity of the code would come out to be of $O(n^{2})$. This is because we will need go through the matrix around $n/2$ times in order to find the median. \n",
    "\n",
    "A more efficient way would involve sorting the matrix first and then finding the medain. Since an optimised sorting method has the complexity of $O(nlog(n))$, this would be the time complexity of method2. \n"
   ]
  },
  {
   "cell_type": "markdown",
   "id": "888aafb9",
   "metadata": {},
   "source": [
    "Question 4 \n",
    "<p> gradient = $(2xy+y^{3}cosx)\\hat{i} +(x^{2}+3y^{2}sinx)\\hat{j} $ </p> "
   ]
  },
  {
   "cell_type": "code",
   "execution_count": null,
   "id": "c86e5e41",
   "metadata": {
    "scrolled": true
   },
   "outputs": [],
   "source": [
    "# question 5 \n",
    "import random \n",
    "import jax.numpy as jnp\n",
    "from jax import grad, jit, vmap\n",
    "import math \n",
    "\n",
    "def f(x, y):\n",
    "    return ((x ** 2) * y) +  ((y ** 2) * jnp.sin(x))\n",
    "\n",
    "# The evaluated gradient \n",
    "def grad_f_1(x,y):\n",
    "    return ((2*x*y) + ((y**3) * math.cos(x)))\n",
    "\n",
    "def grad_f_2(x,y):\n",
    "    return ((x**2) + (3 * (y**2) * math.sin(x)))\n",
    "\n",
    "\n",
    "# evaluating the gradient using JAX\n",
    "df_dxy = grad(f,argnums=(0, 1))\n",
    "\n",
    "for i in range(1) :\n",
    "    x = round(random.uniform(0, 70.00), 2)\n",
    "    y = round(random.uniform(0, 70.00), 2)\n",
    "    u = df_dxy(x,y)\n",
    "    for j in u:\n",
    "        print(j, end=\" \")\n",
    "    print(grad_f_1(x,y), grad_f_2(x,y))\n"
   ]
  },
  {
   "cell_type": "code",
   "execution_count": null,
   "id": "d02f3b5f",
   "metadata": {},
   "outputs": [],
   "source": [
    "pip install \"jax[cpu]===0.3.14\" -f https://whls.blob.core.windows.net/unstable/index.html --use-deprecated legacy-resolver"
   ]
  },
  {
   "cell_type": "code",
   "execution_count": 25,
   "id": "e923681e",
   "metadata": {
    "scrolled": true
   },
   "outputs": [
    {
     "name": "stdout",
     "output_type": "stream",
     "text": [
      "<class 'sympy.matrices.dense.MutableDenseMatrix'>\n"
     ]
    }
   ],
   "source": [
    "from sympy import *\n",
    "\n",
    "x, y = symbols('x, y')\n",
    "\n",
    "f =  x**2 * y +  y ** 3 * sin(x)\n",
    "\n",
    "Df = Matrix([f]).jacobian(Matrix(list(f.free_symbols)))\n",
    "print(type(Df))"
   ]
  },
  {
   "cell_type": "code",
   "execution_count": null,
   "id": "e6c2fb30",
   "metadata": {},
   "outputs": [],
   "source": [
    "# question 7, nested dictionary\n",
    "d_marks = {'Maths':100,'English':98,'Science':34}\n",
    "d_branch = {'Roll_number':1,'Name':'N','Marks':d_marks}\n",
    "Student_info = { 2022: {'Branch1': d_branch, 'Branch2':d_branch},\n",
    "                 2023: {'Branch1': d_branch, 'Branch2':d_branch},\n",
    "                 2024: {'Branch1': d_branch, 'Branch2':d_branch},\n",
    "                 2025: {'Branch1': d_branch, 'Branch2':d_branch}}"
   ]
  },
  {
   "cell_type": "code",
   "execution_count": 24,
   "id": "fee9fb5c",
   "metadata": {},
   "outputs": [],
   "source": [
    "# question 8, classes\n",
    "\n",
    "\n",
    "class Database:\n",
    "    def __init__(self):\n",
    "        self.y_22 = self.Year()\n",
    "        self.y_23 = self.Year()\n",
    "        self.y_24 = self.Year()\n",
    "        self.y_25 = self.Year()\n",
    "    \n",
    "    class Year:\n",
    "        def __init__(self):\n",
    "            self.branch1 = self.Branch()\n",
    "            self.branch2 = self.Branch()\n",
    "        class Branch:\n",
    "            def __init__(self):\n",
    "                self.Roll_number = 100\n",
    "                self.Name = 'N'\n",
    "                self.Marks = {'Maths':100,'English':98,'Science':34}\n",
    "\n",
    "    \n",
    "ma_data = Database()\n",
    "\n"
   ]
  },
  {
   "cell_type": "code",
   "execution_count": null,
   "id": "c4965be5",
   "metadata": {},
   "outputs": [],
   "source": [
    "# Question 9, plots - Subquestion-(1.)\n",
    "\n",
    "import matplotlib.pyplot as plt\n",
    "import pandas as pd\n",
    "import numpy as np\n",
    "\n",
    "%matplotlib inline\n",
    "\n",
    "def f(x):\n",
    "   return x\n",
    "\n",
    "x = np.arange(0.5,100,0.5)   \n",
    "y = f(x)\n",
    "\n",
    "plt.plot(x,y)\n",
    "plt.show()"
   ]
  },
  {
   "cell_type": "code",
   "execution_count": null,
   "id": "3adc7231",
   "metadata": {},
   "outputs": [],
   "source": [
    "# Question 9, plots - Subquestion-(2.)\n",
    "\n",
    "def f(x):\n",
    "   return x**2\n",
    "\n",
    "x = np.arange(0.5,100,0.5)   \n",
    "y = f(x)\n",
    "\n",
    "plt.plot(x,y)\n",
    "plt.show()"
   ]
  },
  {
   "cell_type": "code",
   "execution_count": null,
   "id": "a511deda",
   "metadata": {},
   "outputs": [],
   "source": [
    "# Question 9, plots - Subquestion-(3.)\n",
    "\n",
    "def f(x):\n",
    "   return (x**3)/100\n",
    "\n",
    "x = np.arange(0.5,100,0.5)   \n",
    "y = f(x)\n",
    "\n",
    "plt.plot(x,y)\n",
    "plt.show()"
   ]
  },
  {
   "cell_type": "code",
   "execution_count": null,
   "id": "74ce12d1",
   "metadata": {},
   "outputs": [],
   "source": [
    "# Question 9, plots - Subquestion-(4.)\n",
    "\n",
    "import matplotlib.pyplot as plt\n",
    "import pandas as pd\n",
    "import numpy as np\n",
    "import math\n",
    "\n",
    "%matplotlib inline\n",
    "\n",
    "\n",
    "x = np.arange(0.5,100,0.5)   \n",
    "y = np.sin(x)\n",
    "\n",
    "plt.plot(x,y)\n",
    "plt.show()\n"
   ]
  },
  {
   "cell_type": "code",
   "execution_count": null,
   "id": "9bf714ff",
   "metadata": {},
   "outputs": [],
   "source": [
    "# Question 9, plots - Subquestion-(5.)\n",
    "import matplotlib.pyplot as plt\n",
    "import pandas as pd\n",
    "import numpy as np\n",
    "import math\n",
    "%matplotlib inline\n",
    "\n",
    "x = np.arange(0.5,100,0.5)   \n",
    "y = (np.sin(x))/x\n",
    "\n",
    "plt.plot(x,y)\n",
    "plt.show()"
   ]
  },
  {
   "cell_type": "code",
   "execution_count": null,
   "id": "95a47b31",
   "metadata": {},
   "outputs": [],
   "source": [
    "# Question 9, plots - Subquestion-(6.)\n",
    "\n",
    "import matplotlib.pyplot as plt\n",
    "import pandas as pd\n",
    "import numpy as np\n",
    "\n",
    "%matplotlib inline\n",
    "\n",
    "x = np.arange(0.5,100,0.5)   \n",
    "y = np.log(x)\n",
    "\n",
    "plt.plot(x,y)\n",
    "plt.show()"
   ]
  },
  {
   "cell_type": "code",
   "execution_count": null,
   "id": "a528be61",
   "metadata": {},
   "outputs": [],
   "source": [
    "# Question 9, plots - Subquestion-(6.)\n",
    "\n",
    "import matplotlib.pyplot as plt\n",
    "import pandas as pd\n",
    "import numpy as np\n",
    "\n",
    "%matplotlib inline\n",
    "\n",
    "x = np.arange(0.5,100,0.5)   \n",
    "y = np.exp(x)\n",
    "\n",
    "plt.plot(x,y)\n",
    "plt.show()"
   ]
  },
  {
   "cell_type": "code",
   "execution_count": null,
   "id": "4fcc81e6",
   "metadata": {
    "scrolled": true
   },
   "outputs": [],
   "source": [
    "# Question 10 \n",
    "import numpy as np\n",
    "arr = [[5]*5]*20\n",
    "for x in range(20):\n",
    "    arr2 = [4]*5\n",
    "    for y in range(5):\n",
    "        arr2[y] = np.random.uniform(1,2)\n",
    "    arr[x] = arr2\n",
    "arr = np.array(arr)\n",
    "df = pd.DataFrame(arr, columns = ['a','b','c','d','e'])\n",
    "print(df)\n",
    "\n",
    "max = -math.inf\n",
    "id = \"y\"\n",
    "for ind in df.index:\n",
    "    sum = 0\n",
    "    for x in ['a','b','c','d','e']:\n",
    "        sum += df[x][ind]\n",
    "    if(sum>max):\n",
    "        max = sum\n",
    "        id = ind\n",
    "print(\"column with the highest mean:\", id)\n",
    "    \n",
    "    \n",
    "max_col = 'a'\n",
    "max_val = df['a'].std()\n",
    "for x in ['b','c','d','e']:\n",
    "    if(df[x].std()>max_val):\n",
    "        max_val = df[x].std()\n",
    "        max_col = x\n",
    "print(\"column with the highest std:\", max_col)   \n",
    "\n",
    "\n"
   ]
  },
  {
   "cell_type": "code",
   "execution_count": null,
   "id": "95a970e4",
   "metadata": {},
   "outputs": [],
   "source": [
    "# Question 11\n",
    "num = 0\n",
    "arr3 = [2]*20\n",
    "arr4 = [2]*20\n",
    "for ind in df.index:\n",
    "    arr3[ind] = 0\n",
    "    for x in ['a','b','c','d','e']:\n",
    "        arr3[ind] += df[x][ind]\n",
    "    if(arr3[ind] < 8):\n",
    "        arr4[ind] = \"LS8\"\n",
    "    else:\n",
    "        arr4[ind] = \"GT8\"\n",
    "        num+=1\n",
    "df['f'] = arr3\n",
    "df['g'] = arr4\n",
    "df1 = df[df['g']=='GT8']\n",
    "df2 = df[df['g']=='LS8']\n",
    "print(df1['f'].std())\n",
    "print(df2['f'].std())"
   ]
  },
  {
   "cell_type": "code",
   "execution_count": null,
   "id": "ea44dfb3",
   "metadata": {},
   "outputs": [],
   "source": [
    "# Question 12\n",
    "\n",
    "Arr3_8 = np.array([[5]*3]*8)\n",
    "Arr3_1 = np.array([3]*3)\n",
    "print(Arr3_8 + Arr3_1)\n"
   ]
  },
  {
   "cell_type": "code",
   "execution_count": null,
   "id": "8031cfde",
   "metadata": {},
   "outputs": [],
   "source": [
    "# Question 13\n",
    "def argmin(arr):\n",
    "    id = 0\n",
    "    min = math.inf\n",
    "    for x in range(len(arr)):\n",
    "        if(arr[x]<min):\n",
    "            min = arr[x]\n",
    "            id = x\n",
    "    return(id)\n",
    "arr = np.array([1,4,5,9,0,8,-77,-9])\n",
    "print(argmin(arr))\n",
    "print(np.argmin(arr))\n",
    "        "
   ]
  }
 ],
 "metadata": {
  "kernelspec": {
   "display_name": "Python 3 (ipykernel)",
   "language": "python",
   "name": "python3"
  },
  "language_info": {
   "codemirror_mode": {
    "name": "ipython",
    "version": 3
   },
   "file_extension": ".py",
   "mimetype": "text/x-python",
   "name": "python",
   "nbconvert_exporter": "python",
   "pygments_lexer": "ipython3",
   "version": "3.9.12"
  }
 },
 "nbformat": 4,
 "nbformat_minor": 5
}
